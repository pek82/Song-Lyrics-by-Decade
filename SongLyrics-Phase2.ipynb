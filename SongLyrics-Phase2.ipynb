{
 "cells": [
  {
   "cell_type": "code",
   "execution_count": 3,
   "metadata": {},
   "outputs": [],
   "source": [
    "import pandas as pd\n",
    "import matplotlib.pyplot as plt\n",
    "%matplotlib inline\n",
    "import sklearn\n",
    "import seaborn as sns\n",
    "import re"
   ]
  },
  {
   "cell_type": "code",
   "execution_count": 4,
   "metadata": {},
   "outputs": [],
   "source": [
    "import nltk"
   ]
  },
  {
   "cell_type": "code",
   "execution_count": 5,
   "metadata": {},
   "outputs": [],
   "source": [
    "from nltk.tokenize import sent_tokenize, word_tokenize\n",
    "from nltk.corpus import stopwords"
   ]
  },
  {
   "cell_type": "code",
   "execution_count": 6,
   "metadata": {},
   "outputs": [],
   "source": [
    "lyrics_db = pd.read_csv('billboard_lyrics_1964-2015.csv')"
   ]
  },
  {
   "cell_type": "code",
   "execution_count": 7,
   "metadata": {},
   "outputs": [
    {
     "data": {
      "text/html": [
       "<div>\n",
       "<style scoped>\n",
       "    .dataframe tbody tr th:only-of-type {\n",
       "        vertical-align: middle;\n",
       "    }\n",
       "\n",
       "    .dataframe tbody tr th {\n",
       "        vertical-align: top;\n",
       "    }\n",
       "\n",
       "    .dataframe thead th {\n",
       "        text-align: right;\n",
       "    }\n",
       "</style>\n",
       "<table border=\"1\" class=\"dataframe\">\n",
       "  <thead>\n",
       "    <tr style=\"text-align: right;\">\n",
       "      <th></th>\n",
       "      <th>Rank</th>\n",
       "      <th>Song</th>\n",
       "      <th>Artist</th>\n",
       "      <th>Year</th>\n",
       "      <th>Lyrics</th>\n",
       "      <th>Source</th>\n",
       "    </tr>\n",
       "  </thead>\n",
       "  <tbody>\n",
       "    <tr>\n",
       "      <th>0</th>\n",
       "      <td>1</td>\n",
       "      <td>wooly bully</td>\n",
       "      <td>sam the sham and the pharaohs</td>\n",
       "      <td>1965</td>\n",
       "      <td>sam the sham miscellaneous wooly bully wooly b...</td>\n",
       "      <td>3.0</td>\n",
       "    </tr>\n",
       "    <tr>\n",
       "      <th>1</th>\n",
       "      <td>2</td>\n",
       "      <td>i cant help myself sugar pie honey bunch</td>\n",
       "      <td>four tops</td>\n",
       "      <td>1965</td>\n",
       "      <td>sugar pie honey bunch you know that i love yo...</td>\n",
       "      <td>1.0</td>\n",
       "    </tr>\n",
       "    <tr>\n",
       "      <th>2</th>\n",
       "      <td>3</td>\n",
       "      <td>i cant get no satisfaction</td>\n",
       "      <td>the rolling stones</td>\n",
       "      <td>1965</td>\n",
       "      <td></td>\n",
       "      <td>1.0</td>\n",
       "    </tr>\n",
       "    <tr>\n",
       "      <th>3</th>\n",
       "      <td>4</td>\n",
       "      <td>you were on my mind</td>\n",
       "      <td>we five</td>\n",
       "      <td>1965</td>\n",
       "      <td>when i woke up this morning you were on my mi...</td>\n",
       "      <td>1.0</td>\n",
       "    </tr>\n",
       "    <tr>\n",
       "      <th>4</th>\n",
       "      <td>5</td>\n",
       "      <td>youve lost that lovin feelin</td>\n",
       "      <td>the righteous brothers</td>\n",
       "      <td>1965</td>\n",
       "      <td>you never close your eyes anymore when i kiss...</td>\n",
       "      <td>1.0</td>\n",
       "    </tr>\n",
       "  </tbody>\n",
       "</table>\n",
       "</div>"
      ],
      "text/plain": [
       "   Rank                                      Song  \\\n",
       "0     1                               wooly bully   \n",
       "1     2  i cant help myself sugar pie honey bunch   \n",
       "2     3                i cant get no satisfaction   \n",
       "3     4                       you were on my mind   \n",
       "4     5              youve lost that lovin feelin   \n",
       "\n",
       "                          Artist  Year  \\\n",
       "0  sam the sham and the pharaohs  1965   \n",
       "1                      four tops  1965   \n",
       "2             the rolling stones  1965   \n",
       "3                        we five  1965   \n",
       "4         the righteous brothers  1965   \n",
       "\n",
       "                                              Lyrics  Source  \n",
       "0  sam the sham miscellaneous wooly bully wooly b...     3.0  \n",
       "1   sugar pie honey bunch you know that i love yo...     1.0  \n",
       "2                                                        1.0  \n",
       "3   when i woke up this morning you were on my mi...     1.0  \n",
       "4   you never close your eyes anymore when i kiss...     1.0  "
      ]
     },
     "execution_count": 7,
     "metadata": {},
     "output_type": "execute_result"
    }
   ],
   "source": [
    "lyrics_db.head()"
   ]
  },
  {
   "cell_type": "code",
   "execution_count": 8,
   "metadata": {},
   "outputs": [
    {
     "data": {
      "text/plain": [
       "Index(['Rank', 'Song', 'Artist', 'Year', 'Lyrics', 'Source'], dtype='object')"
      ]
     },
     "execution_count": 8,
     "metadata": {},
     "output_type": "execute_result"
    }
   ],
   "source": [
    "lyrics_db.columns"
   ]
  },
  {
   "cell_type": "code",
   "execution_count": 9,
   "metadata": {},
   "outputs": [
    {
     "name": "stdout",
     "output_type": "stream",
     "text": [
      "<class 'pandas.core.frame.DataFrame'>\n",
      "RangeIndex: 5099 entries, 0 to 5098\n",
      "Data columns (total 6 columns):\n",
      "Rank      5099 non-null int64\n",
      "Song      5099 non-null object\n",
      "Artist    5099 non-null object\n",
      "Year      5099 non-null int64\n",
      "Lyrics    4912 non-null object\n",
      "Source    4912 non-null float64\n",
      "dtypes: float64(1), int64(2), object(3)\n",
      "memory usage: 239.1+ KB\n"
     ]
    }
   ],
   "source": [
    "lyrics_db.info()"
   ]
  },
  {
   "cell_type": "code",
   "execution_count": 10,
   "metadata": {},
   "outputs": [],
   "source": [
    "lyrics_db.drop([\"Source\"], inplace=True, axis=1)"
   ]
  },
  {
   "cell_type": "code",
   "execution_count": 11,
   "metadata": {},
   "outputs": [],
   "source": [
    "lyrics_db.dropna(subset=['Lyrics'], inplace=True)"
   ]
  },
  {
   "cell_type": "code",
   "execution_count": 12,
   "metadata": {},
   "outputs": [
    {
     "data": {
      "text/plain": [
       "Rank      0\n",
       "Song      0\n",
       "Artist    0\n",
       "Year      0\n",
       "Lyrics    0\n",
       "dtype: int64"
      ]
     },
     "execution_count": 12,
     "metadata": {},
     "output_type": "execute_result"
    }
   ],
   "source": [
    "lyrics_db.isnull().sum()"
   ]
  },
  {
   "cell_type": "code",
   "execution_count": 13,
   "metadata": {},
   "outputs": [],
   "source": [
    "lyrics_db['Length'] = lyrics_db['Lyrics'].apply(len)"
   ]
  },
  {
   "cell_type": "code",
   "execution_count": 14,
   "metadata": {},
   "outputs": [
    {
     "data": {
      "text/html": [
       "<div>\n",
       "<style scoped>\n",
       "    .dataframe tbody tr th:only-of-type {\n",
       "        vertical-align: middle;\n",
       "    }\n",
       "\n",
       "    .dataframe tbody tr th {\n",
       "        vertical-align: top;\n",
       "    }\n",
       "\n",
       "    .dataframe thead th {\n",
       "        text-align: right;\n",
       "    }\n",
       "</style>\n",
       "<table border=\"1\" class=\"dataframe\">\n",
       "  <thead>\n",
       "    <tr style=\"text-align: right;\">\n",
       "      <th></th>\n",
       "      <th>Rank</th>\n",
       "      <th>Song</th>\n",
       "      <th>Artist</th>\n",
       "      <th>Year</th>\n",
       "      <th>Lyrics</th>\n",
       "      <th>Length</th>\n",
       "    </tr>\n",
       "  </thead>\n",
       "  <tbody>\n",
       "    <tr>\n",
       "      <th>0</th>\n",
       "      <td>1</td>\n",
       "      <td>wooly bully</td>\n",
       "      <td>sam the sham and the pharaohs</td>\n",
       "      <td>1965</td>\n",
       "      <td>sam the sham miscellaneous wooly bully wooly b...</td>\n",
       "      <td>662</td>\n",
       "    </tr>\n",
       "    <tr>\n",
       "      <th>1</th>\n",
       "      <td>2</td>\n",
       "      <td>i cant help myself sugar pie honey bunch</td>\n",
       "      <td>four tops</td>\n",
       "      <td>1965</td>\n",
       "      <td>sugar pie honey bunch you know that i love yo...</td>\n",
       "      <td>995</td>\n",
       "    </tr>\n",
       "    <tr>\n",
       "      <th>2</th>\n",
       "      <td>3</td>\n",
       "      <td>i cant get no satisfaction</td>\n",
       "      <td>the rolling stones</td>\n",
       "      <td>1965</td>\n",
       "      <td></td>\n",
       "      <td>2</td>\n",
       "    </tr>\n",
       "    <tr>\n",
       "      <th>3</th>\n",
       "      <td>4</td>\n",
       "      <td>you were on my mind</td>\n",
       "      <td>we five</td>\n",
       "      <td>1965</td>\n",
       "      <td>when i woke up this morning you were on my mi...</td>\n",
       "      <td>692</td>\n",
       "    </tr>\n",
       "    <tr>\n",
       "      <th>4</th>\n",
       "      <td>5</td>\n",
       "      <td>youve lost that lovin feelin</td>\n",
       "      <td>the righteous brothers</td>\n",
       "      <td>1965</td>\n",
       "      <td>you never close your eyes anymore when i kiss...</td>\n",
       "      <td>1173</td>\n",
       "    </tr>\n",
       "  </tbody>\n",
       "</table>\n",
       "</div>"
      ],
      "text/plain": [
       "   Rank                                      Song  \\\n",
       "0     1                               wooly bully   \n",
       "1     2  i cant help myself sugar pie honey bunch   \n",
       "2     3                i cant get no satisfaction   \n",
       "3     4                       you were on my mind   \n",
       "4     5              youve lost that lovin feelin   \n",
       "\n",
       "                          Artist  Year  \\\n",
       "0  sam the sham and the pharaohs  1965   \n",
       "1                      four tops  1965   \n",
       "2             the rolling stones  1965   \n",
       "3                        we five  1965   \n",
       "4         the righteous brothers  1965   \n",
       "\n",
       "                                              Lyrics  Length  \n",
       "0  sam the sham miscellaneous wooly bully wooly b...     662  \n",
       "1   sugar pie honey bunch you know that i love yo...     995  \n",
       "2                                                          2  \n",
       "3   when i woke up this morning you were on my mi...     692  \n",
       "4   you never close your eyes anymore when i kiss...    1173  "
      ]
     },
     "execution_count": 14,
     "metadata": {},
     "output_type": "execute_result"
    }
   ],
   "source": [
    "lyrics_db.head()"
   ]
  },
  {
   "cell_type": "code",
   "execution_count": 15,
   "metadata": {},
   "outputs": [
    {
     "data": {
      "text/plain": [
       "<matplotlib.axes._subplots.AxesSubplot at 0x1a24510e80>"
      ]
     },
     "execution_count": 15,
     "metadata": {},
     "output_type": "execute_result"
    },
    {
     "data": {
      "image/png": "[encoded data removed]",
      "text/plain": [
       "<Figure size 432x288 with 1 Axes>"
      ]
     },
     "metadata": {
      "needs_background": "light"
     },
     "output_type": "display_data"
    }
   ],
   "source": [
    "lyrics_db['Length'].plot.hist(bins=25)"
   ]
  },
  {
   "cell_type": "code",
   "execution_count": 16,
   "metadata": {},
   "outputs": [
    {
     "data": {
      "text/html": [
       "<div>\n",
       "<style scoped>\n",
       "    .dataframe tbody tr th:only-of-type {\n",
       "        vertical-align: middle;\n",
       "    }\n",
       "\n",
       "    .dataframe tbody tr th {\n",
       "        vertical-align: top;\n",
       "    }\n",
       "\n",
       "    .dataframe thead th {\n",
       "        text-align: right;\n",
       "    }\n",
       "</style>\n",
       "<table border=\"1\" class=\"dataframe\">\n",
       "  <thead>\n",
       "    <tr style=\"text-align: right;\">\n",
       "      <th></th>\n",
       "      <th>Rank</th>\n",
       "      <th>Year</th>\n",
       "      <th>Length</th>\n",
       "    </tr>\n",
       "  </thead>\n",
       "  <tbody>\n",
       "    <tr>\n",
       "      <th>count</th>\n",
       "      <td>4912.000000</td>\n",
       "      <td>4912.000000</td>\n",
       "      <td>4912.000000</td>\n",
       "    </tr>\n",
       "    <tr>\n",
       "      <th>mean</th>\n",
       "      <td>50.440350</td>\n",
       "      <td>1990.195847</td>\n",
       "      <td>1568.194829</td>\n",
       "    </tr>\n",
       "    <tr>\n",
       "      <th>std</th>\n",
       "      <td>28.820238</td>\n",
       "      <td>14.702657</td>\n",
       "      <td>811.688713</td>\n",
       "    </tr>\n",
       "    <tr>\n",
       "      <th>min</th>\n",
       "      <td>1.000000</td>\n",
       "      <td>1965.000000</td>\n",
       "      <td>1.000000</td>\n",
       "    </tr>\n",
       "    <tr>\n",
       "      <th>25%</th>\n",
       "      <td>26.000000</td>\n",
       "      <td>1978.000000</td>\n",
       "      <td>1024.750000</td>\n",
       "    </tr>\n",
       "    <tr>\n",
       "      <th>50%</th>\n",
       "      <td>50.500000</td>\n",
       "      <td>1990.000000</td>\n",
       "      <td>1408.500000</td>\n",
       "    </tr>\n",
       "    <tr>\n",
       "      <th>75%</th>\n",
       "      <td>75.000000</td>\n",
       "      <td>2003.000000</td>\n",
       "      <td>1926.250000</td>\n",
       "    </tr>\n",
       "    <tr>\n",
       "      <th>max</th>\n",
       "      <td>100.000000</td>\n",
       "      <td>2015.000000</td>\n",
       "      <td>5758.000000</td>\n",
       "    </tr>\n",
       "  </tbody>\n",
       "</table>\n",
       "</div>"
      ],
      "text/plain": [
       "              Rank         Year       Length\n",
       "count  4912.000000  4912.000000  4912.000000\n",
       "mean     50.440350  1990.195847  1568.194829\n",
       "std      28.820238    14.702657   811.688713\n",
       "min       1.000000  1965.000000     1.000000\n",
       "25%      26.000000  1978.000000  1024.750000\n",
       "50%      50.500000  1990.000000  1408.500000\n",
       "75%      75.000000  2003.000000  1926.250000\n",
       "max     100.000000  2015.000000  5758.000000"
      ]
     },
     "execution_count": 16,
     "metadata": {},
     "output_type": "execute_result"
    }
   ],
   "source": [
    "lyrics_db.describe()"
   ]
  },
  {
   "cell_type": "code",
   "execution_count": 17,
   "metadata": {},
   "outputs": [],
   "source": [
    "# pip install -U spacy && python -m spacy download en"
   ]
  },
  {
   "cell_type": "code",
   "execution_count": 18,
   "metadata": {},
   "outputs": [],
   "source": [
    "import spacy"
   ]
  },
  {
   "cell_type": "code",
   "execution_count": 19,
   "metadata": {},
   "outputs": [],
   "source": [
    "nlp = spacy.load('en')"
   ]
  },
  {
   "cell_type": "code",
   "execution_count": null,
   "metadata": {},
   "outputs": [],
   "source": []
  },
  {
   "cell_type": "code",
   "execution_count": null,
   "metadata": {},
   "outputs": [],
   "source": []
  },
  {
   "cell_type": "code",
   "execution_count": 20,
   "metadata": {},
   "outputs": [],
   "source": [
    "tokens = []\n",
    "lemma = []\n",
    "pos = []\n",
    "\n",
    "for doc in nlp.pipe(lyrics_db['Lyrics'].astype('unicode').values, batch_size=50,\n",
    "                        n_threads=3):\n",
    "    if doc.is_parsed:\n",
    "        tokens.append([n.text for n in doc])\n",
    "        lemma.append([n.lemma_ for n in doc])\n",
    "        pos.append([n.pos_ for n in doc])\n",
    "    else:\n",
    "        # We want to make sure that the lists of parsed results have the\n",
    "        # same number of entries of the original Dataframe, so add some blanks in case the parse fails\n",
    "        tokens.append(None)\n",
    "        lemma.append(None)\n",
    "        pos.append(None)\n",
    "\n",
    "lyrics_db['lyrics_tokens'] = tokens\n",
    "lyrics_db['lyrics_lemma'] = lemma\n",
    "lyrics_db['lyrics_pos'] = pos"
   ]
  },
  {
   "cell_type": "code",
   "execution_count": 21,
   "metadata": {},
   "outputs": [
    {
     "data": {
      "text/html": [
       "<div>\n",
       "<style scoped>\n",
       "    .dataframe tbody tr th:only-of-type {\n",
       "        vertical-align: middle;\n",
       "    }\n",
       "\n",
       "    .dataframe tbody tr th {\n",
       "        vertical-align: top;\n",
       "    }\n",
       "\n",
       "    .dataframe thead th {\n",
       "        text-align: right;\n",
       "    }\n",
       "</style>\n",
       "<table border=\"1\" class=\"dataframe\">\n",
       "  <thead>\n",
       "    <tr style=\"text-align: right;\">\n",
       "      <th></th>\n",
       "      <th>Rank</th>\n",
       "      <th>Song</th>\n",
       "      <th>Artist</th>\n",
       "      <th>Year</th>\n",
       "      <th>Lyrics</th>\n",
       "      <th>Length</th>\n",
       "      <th>lyrics_tokens</th>\n",
       "      <th>lyrics_lemma</th>\n",
       "      <th>lyrics_pos</th>\n",
       "    </tr>\n",
       "  </thead>\n",
       "  <tbody>\n",
       "    <tr>\n",
       "      <th>0</th>\n",
       "      <td>1</td>\n",
       "      <td>wooly bully</td>\n",
       "      <td>sam the sham and the pharaohs</td>\n",
       "      <td>1965</td>\n",
       "      <td>sam the sham miscellaneous wooly bully wooly b...</td>\n",
       "      <td>662</td>\n",
       "      <td>[sam, the, sham, miscellaneous, wooly, bully, ...</td>\n",
       "      <td>[sam, the, sham, miscellaneous, wooly, bully, ...</td>\n",
       "      <td>[PROPN, DET, ADJ, ADJ, PROPN, PROPN, PROPN, PR...</td>\n",
       "    </tr>\n",
       "    <tr>\n",
       "      <th>1</th>\n",
       "      <td>2</td>\n",
       "      <td>i cant help myself sugar pie honey bunch</td>\n",
       "      <td>four tops</td>\n",
       "      <td>1965</td>\n",
       "      <td>sugar pie honey bunch you know that i love yo...</td>\n",
       "      <td>995</td>\n",
       "      <td>[ , sugar, pie, honey, bunch, you, know, that,...</td>\n",
       "      <td>[ , sugar, pie, honey, bunch, -PRON-, know, th...</td>\n",
       "      <td>[SPACE, PROPN, PROPN, PROPN, NOUN, PRON, VERB,...</td>\n",
       "    </tr>\n",
       "    <tr>\n",
       "      <th>2</th>\n",
       "      <td>3</td>\n",
       "      <td>i cant get no satisfaction</td>\n",
       "      <td>the rolling stones</td>\n",
       "      <td>1965</td>\n",
       "      <td></td>\n",
       "      <td>2</td>\n",
       "      <td>[  ]</td>\n",
       "      <td>[  ]</td>\n",
       "      <td>[SPACE]</td>\n",
       "    </tr>\n",
       "    <tr>\n",
       "      <th>3</th>\n",
       "      <td>4</td>\n",
       "      <td>you were on my mind</td>\n",
       "      <td>we five</td>\n",
       "      <td>1965</td>\n",
       "      <td>when i woke up this morning you were on my mi...</td>\n",
       "      <td>692</td>\n",
       "      <td>[ , when, i, woke, up, this, morning, you, wer...</td>\n",
       "      <td>[ , when, i, wake, up, this, morning, -PRON-, ...</td>\n",
       "      <td>[SPACE, ADV, PRON, VERB, ADP, DET, NOUN, PRON,...</td>\n",
       "    </tr>\n",
       "    <tr>\n",
       "      <th>4</th>\n",
       "      <td>5</td>\n",
       "      <td>youve lost that lovin feelin</td>\n",
       "      <td>the righteous brothers</td>\n",
       "      <td>1965</td>\n",
       "      <td>you never close your eyes anymore when i kiss...</td>\n",
       "      <td>1173</td>\n",
       "      <td>[ , you, never, close, your, eyes, anymore, wh...</td>\n",
       "      <td>[ , -PRON-, never, close, -PRON-, eye, anymore...</td>\n",
       "      <td>[SPACE, PRON, ADV, VERB, PRON, NOUN, ADV, ADV,...</td>\n",
       "    </tr>\n",
       "  </tbody>\n",
       "</table>\n",
       "</div>"
      ],
      "text/plain": [
       "   Rank                                      Song  \\\n",
       "0     1                               wooly bully   \n",
       "1     2  i cant help myself sugar pie honey bunch   \n",
       "2     3                i cant get no satisfaction   \n",
       "3     4                       you were on my mind   \n",
       "4     5              youve lost that lovin feelin   \n",
       "\n",
       "                          Artist  Year  \\\n",
       "0  sam the sham and the pharaohs  1965   \n",
       "1                      four tops  1965   \n",
       "2             the rolling stones  1965   \n",
       "3                        we five  1965   \n",
       "4         the righteous brothers  1965   \n",
       "\n",
       "                                              Lyrics  Length  \\\n",
       "0  sam the sham miscellaneous wooly bully wooly b...     662   \n",
       "1   sugar pie honey bunch you know that i love yo...     995   \n",
       "2                                                          2   \n",
       "3   when i woke up this morning you were on my mi...     692   \n",
       "4   you never close your eyes anymore when i kiss...    1173   \n",
       "\n",
       "                                       lyrics_tokens  \\\n",
       "0  [sam, the, sham, miscellaneous, wooly, bully, ...   \n",
       "1  [ , sugar, pie, honey, bunch, you, know, that,...   \n",
       "2                                               [  ]   \n",
       "3  [ , when, i, woke, up, this, morning, you, wer...   \n",
       "4  [ , you, never, close, your, eyes, anymore, wh...   \n",
       "\n",
       "                                        lyrics_lemma  \\\n",
       "0  [sam, the, sham, miscellaneous, wooly, bully, ...   \n",
       "1  [ , sugar, pie, honey, bunch, -PRON-, know, th...   \n",
       "2                                               [  ]   \n",
       "3  [ , when, i, wake, up, this, morning, -PRON-, ...   \n",
       "4  [ , -PRON-, never, close, -PRON-, eye, anymore...   \n",
       "\n",
       "                                          lyrics_pos  \n",
       "0  [PROPN, DET, ADJ, ADJ, PROPN, PROPN, PROPN, PR...  \n",
       "1  [SPACE, PROPN, PROPN, PROPN, NOUN, PRON, VERB,...  \n",
       "2                                            [SPACE]  \n",
       "3  [SPACE, ADV, PRON, VERB, ADP, DET, NOUN, PRON,...  \n",
       "4  [SPACE, PRON, ADV, VERB, PRON, NOUN, ADV, ADV,...  "
      ]
     },
     "execution_count": 21,
     "metadata": {},
     "output_type": "execute_result"
    }
   ],
   "source": [
    "lyrics_db.head()"
   ]
  },
  {
   "cell_type": "code",
   "execution_count": 22,
   "metadata": {},
   "outputs": [],
   "source": [
    "from nltk.corpus import stopwords\n",
    "stop = stopwords.words('english')"
   ]
  },
  {
   "cell_type": "code",
   "execution_count": 23,
   "metadata": {},
   "outputs": [
    {
     "data": {
      "text/plain": [
       "0       [sam, sham, miscellaneous, wooly, bully, wooly...\n",
       "1       [ , sugar, pie, honey, bunch, know, love, ca, ...\n",
       "2                                                    [  ]\n",
       "3       [ , woke, morning, mind, mind, got, troubles, ...\n",
       "4       [ , never, close, eyes, anymore, kiss, lips, t...\n",
       "5       [ , alone, life, making, lonely, always, go, d...\n",
       "6       [help, need, somebody, help, anybody, help, kn...\n",
       "7       [carterlewis, every, time, see, lookin, way, b...\n",
       "8       [ , saw, crying, chapel, tears, shed, tears, j...\n",
       "9       [got, sunshine, cloudy, day, cold, outside, go...\n",
       "10      [well, since, put, doin, head, come, late, nig...\n",
       "11      [ , trailer, sale, rent, rooms, let, fifty, ce...\n",
       "12      [let, tell, ya, bout, birds, bees, flowers, tr...\n",
       "13      [ , hold, hold, never, let, go, told, told, wa...\n",
       "14      [said, Ì¢shotgun, shoot, em, runs, jerk, baby,...\n",
       "15      [say, young, nt, know, wo, nt, find, grow, wel...\n",
       "16      [wants, buy, diamond, ring, took, finger, nt, ...\n",
       "17                                         [instrumental]\n",
       "18      [ , mrs, brown, got, lovely, daughter, girls, ...\n",
       "19      [ , stop, name, love, break, heartbaby, baby, ...\n",
       "20      [oh, love, darling, hungered, touch, long, lon...\n",
       "21      [ , slaycrewetook, walk, passed, house, late, ...\n",
       "22      [ , new, world, somewhere, call, promised, lan...\n",
       "23      [mantovani, cara, mia, must, say, goodbye, tim...\n",
       "24      [ , hey, mr, tambourine, man, play, song, slee...\n",
       "25      [month, nights, year, days, octobers, drifting...\n",
       "26      [ready, yes, ready, ready, yes, ready, nt, eve...\n",
       "27      [ , new, pussycat, woah, woah, new, pussycat, ...\n",
       "28      [ , eastern, world, explodin, violence, flarin...\n",
       "29      [hang, sloopy, sloopy, hang, hang, sloopy, slo...\n",
       "                              ...                        \n",
       "5068    [ , yah, bad, bitches, yahi, ai, nt, got, type...\n",
       "5069    [ , scared, dentists, dark, scared, pretty, gi...\n",
       "5070    [ , name, calling, night, could, pull, wool, p...\n",
       "5071    [verse, 1, well, boy, turned, man, showed, thi...\n",
       "5072    [dear, future, husband, heres, things, need, k...\n",
       "5073    [lets, marvin, gaye, get, got, healing, want, ...\n",
       "5074    [ , found, dreaming, silver, gold, like, scene...\n",
       "5075    [ , uhuh, uhuh, uhuh, eat, dinner, bathtub, go...\n",
       "5076    [ , coming, tree, strung, man, say, murdered, ...\n",
       "5077    [love, coco, coco, coco, love, coco, coco, coc...\n",
       "5078    [verse, 1, jessie, j, got, body, like, hourgla...\n",
       "5079    [ , yes, believe, one, day, right, right, next...\n",
       "5080    [hook, x4, club, goin, tuesday, got, girl, cut...\n",
       "5081    [ , yo, yo, aye, finna, aye, finnaim, finna, s...\n",
       "5082    [ , went, moped, store, said, fuck, salesmans,...\n",
       "5083    [ , couch, blowing, phone, nt, want, come, nt,...\n",
       "5084    [need, need, need, need, need, need, need, nee...\n",
       "5085    [week, long, farmin, town, makin, money, grow,...\n",
       "5086    [ , look, feel, blessed, way, feel, blessed, w...\n",
       "5087    [ , house, budapest, hidden, treasure, chest, ...\n",
       "5088    [party, girls, nt, get, hurt, ca, nt, feel, an...\n",
       "5089    [ , heartbeat, song, gon, na, play, long, forg...\n",
       "5090    [ , met, girl, late, last, year, said, nt, wor...\n",
       "5091    [ , keep, going, river, pray, cause, need, som...\n",
       "5092    [ , guess, right, got, last, laughim, sorry, s...\n",
       "5093    [ , face, water, feet, ca, nt, touch, ground, ...\n",
       "5094    [enrique, iglesias, dime, si, es, verdad, dije...\n",
       "5096    [ , going, tonight, changes, something, red, m...\n",
       "5097    [oh, man, oh, man, oh, man, againyeah, learned...\n",
       "5098    [ , want, breathe, let, air, let, roam, body, ...\n",
       "Name: lyrics_tokens, Length: 4912, dtype: object"
      ]
     },
     "execution_count": 23,
     "metadata": {},
     "output_type": "execute_result"
    }
   ],
   "source": [
    "lyrics_db['lyrics_tokens'].apply(lambda x: [item for item in x if item not in stop])"
   ]
  },
  {
   "cell_type": "code",
   "execution_count": 24,
   "metadata": {},
   "outputs": [
    {
     "data": {
      "text/plain": [
       "0       [sam, sham, miscellaneous, wooly, bully, wooly...\n",
       "1       [ , sugar, pie, honey, bunch, -PRON-, know, lo...\n",
       "2                                                    [  ]\n",
       "3       [ , wake, morning, -PRON-, -PRON-, mind, -PRON...\n",
       "4       [ , -PRON-, never, close, -PRON-, eye, anymore...\n",
       "5       [ , -PRON-, alone, life, make, -PRON-, lonely,...\n",
       "6       [help, need, somebody, help, anybody, help, -P...\n",
       "7       [carterlewis, every, time, see, -PRON-, lookin...\n",
       "8       [ , -PRON-, see, -PRON-, cry, chapel, tear, sh...\n",
       "9       [-PRON-, get, sunshine, cloudy, day, -PRON-, c...\n",
       "10      [well, since, -PRON-, put, -PRON-, -PRON-, hea...\n",
       "11      [ , trailer, sale, rent, room, let, fifty, cen...\n",
       "12      [let, -PRON-, tell, ya, bout, bird, bee, flowe...\n",
       "13      [ , hold, -PRON-, hold, -PRON-, never, let, -P...\n",
       "14      [say, ì¢shotgun, shoot, -PRON-, -PRON-, run, j...\n",
       "15      [-PRON-, say, young, -PRON-, know, -PRON-, fin...\n",
       "16      [want, buy, diamond, ring, -PRON-, take, -PRON...\n",
       "17                                         [instrumental]\n",
       "18      [ , mrs, brown, -PRON-, get, lovely, daughter,...\n",
       "19      [ , stop, name, love, -PRON-, break, -PRON-, h...\n",
       "20      [oh, -PRON-, love, -PRON-, darling, -PRON-, hu...\n",
       "21      [ , slaycrewetook, walk, pass, -PRON-, house, ...\n",
       "22      [ , new, world, somewhere, -PRON-, call, promi...\n",
       "23      [mantovani, cara, mia, must, -PRON-, say, good...\n",
       "24      [ , hey, mr, tambourine, man, play, song, -PRO...\n",
       "25      [month, night, year, day, october, drift, may,...\n",
       "26      [-PRON-, ready, yes, -PRON-, ready, -PRON-, re...\n",
       "27      [ , new, pussycat, woah, woah, new, pussycat, ...\n",
       "28      [ , eastern, world, -PRON-, explodin, violence...\n",
       "29      [hang, sloopy, sloopy, hang, hang, sloopy, slo...\n",
       "                              ...                        \n",
       "5068    [ , yah, bad, bitch, yahi, get, type, nah, bad...\n",
       "5069    [ , scare, dentist, dark, scared, pretty, girl...\n",
       "5070    [ , -PRON-, name, call, night, could, pull, wo...\n",
       "5071    [verse, 1, well, -PRON-, boy, turn, -PRON-, ma...\n",
       "5072    [dear, future, husband, thing, -PRON-, need, k...\n",
       "5073    [let, marvin, gaye, get, -PRON-, -PRON-, get, ...\n",
       "5074    [ , find, -PRON-, dream, silver, gold, like, s...\n",
       "5075    [ , uhuh, uhuh, uhuh, eat, -PRON-, dinner, -PR...\n",
       "5076    [ , -PRON-, -PRON-, come, tree, -PRON-, string...\n",
       "5077    [-PRON-, love, coco, coco, coco, -PRON-, love,...\n",
       "5078    [verse, 1, jessie, j, -PRON-, get, body, like,...\n",
       "5079    [ , yes, believe, one, day, right, right, next...\n",
       "5080    [hook, x4, club, go, tuesday, get, -PRON-, gir...\n",
       "5081    [ , yo, yo, aye, -PRON-, finna, aye, -PRON-, f...\n",
       "5082    [ , go, moped, store, say, fuck, -PRON-, sales...\n",
       "5083    [ , -PRON-, couch, blow, -PRON-, phone, -PRON-...\n",
       "5084    [need, -PRON-, need, -PRON-, need, -PRON-, nee...\n",
       "5085    [week, long, -PRON-, farmin, town, -PRON-, mak...\n",
       "5086    [ , look, feel, bless, way, feel, bless, way, ...\n",
       "5087    [ , -PRON-, house, budapest, -PRON-, hidden, t...\n",
       "5088    [party, girl, get, hurt, feel, anything, learn...\n",
       "5089    [ , -PRON-, heartbeat, song, -PRON-, go, play,...\n",
       "5090    [ , meet, girl, late, last, year, -PRON-, say,...\n",
       "5091    [ , keep, go, river, pray, cause, need, someth...\n",
       "5092    [ , guess, right, -PRON-, get, last, laughim, ...\n",
       "5093    [ , -PRON-, face, water, -PRON-, foot, touch, ...\n",
       "5094    [enrique, iglesias, dime, si, es, verdad, -PRO...\n",
       "5096    [ , go, tonight, change, something, red, -PRON...\n",
       "5097    [oh, man, oh, man, oh, man, againyeah, learn, ...\n",
       "5098    [ , want, -PRON-, breathe, -PRON-, let, -PRON-...\n",
       "Name: lyrics_lemma, Length: 4912, dtype: object"
      ]
     },
     "execution_count": 24,
     "metadata": {},
     "output_type": "execute_result"
    }
   ],
   "source": [
    "lyrics_db['lyrics_lemma'].apply(lambda x: [item for item in x if item not in stop])"
   ]
  },
  {
   "cell_type": "code",
   "execution_count": null,
   "metadata": {},
   "outputs": [],
   "source": []
  },
  {
   "cell_type": "code",
   "execution_count": 25,
   "metadata": {},
   "outputs": [
    {
     "data": {
      "text/html": [
       "<div>\n",
       "<style scoped>\n",
       "    .dataframe tbody tr th:only-of-type {\n",
       "        vertical-align: middle;\n",
       "    }\n",
       "\n",
       "    .dataframe tbody tr th {\n",
       "        vertical-align: top;\n",
       "    }\n",
       "\n",
       "    .dataframe thead th {\n",
       "        text-align: right;\n",
       "    }\n",
       "</style>\n",
       "<table border=\"1\" class=\"dataframe\">\n",
       "  <thead>\n",
       "    <tr style=\"text-align: right;\">\n",
       "      <th></th>\n",
       "      <th>Rank</th>\n",
       "      <th>Song</th>\n",
       "      <th>Artist</th>\n",
       "      <th>Year</th>\n",
       "      <th>Lyrics</th>\n",
       "      <th>Length</th>\n",
       "      <th>lyrics_tokens</th>\n",
       "      <th>lyrics_lemma</th>\n",
       "      <th>lyrics_pos</th>\n",
       "    </tr>\n",
       "  </thead>\n",
       "  <tbody>\n",
       "    <tr>\n",
       "      <th>0</th>\n",
       "      <td>1</td>\n",
       "      <td>wooly bully</td>\n",
       "      <td>sam the sham and the pharaohs</td>\n",
       "      <td>1965</td>\n",
       "      <td>sam the sham miscellaneous wooly bully wooly b...</td>\n",
       "      <td>662</td>\n",
       "      <td>[sam, the, sham, miscellaneous, wooly, bully, ...</td>\n",
       "      <td>[sam, the, sham, miscellaneous, wooly, bully, ...</td>\n",
       "      <td>[PROPN, DET, ADJ, ADJ, PROPN, PROPN, PROPN, PR...</td>\n",
       "    </tr>\n",
       "    <tr>\n",
       "      <th>1</th>\n",
       "      <td>2</td>\n",
       "      <td>i cant help myself sugar pie honey bunch</td>\n",
       "      <td>four tops</td>\n",
       "      <td>1965</td>\n",
       "      <td>sugar pie honey bunch you know that i love yo...</td>\n",
       "      <td>995</td>\n",
       "      <td>[ , sugar, pie, honey, bunch, you, know, that,...</td>\n",
       "      <td>[ , sugar, pie, honey, bunch, -PRON-, know, th...</td>\n",
       "      <td>[SPACE, PROPN, PROPN, PROPN, NOUN, PRON, VERB,...</td>\n",
       "    </tr>\n",
       "    <tr>\n",
       "      <th>2</th>\n",
       "      <td>3</td>\n",
       "      <td>i cant get no satisfaction</td>\n",
       "      <td>the rolling stones</td>\n",
       "      <td>1965</td>\n",
       "      <td></td>\n",
       "      <td>2</td>\n",
       "      <td>[  ]</td>\n",
       "      <td>[  ]</td>\n",
       "      <td>[SPACE]</td>\n",
       "    </tr>\n",
       "    <tr>\n",
       "      <th>3</th>\n",
       "      <td>4</td>\n",
       "      <td>you were on my mind</td>\n",
       "      <td>we five</td>\n",
       "      <td>1965</td>\n",
       "      <td>when i woke up this morning you were on my mi...</td>\n",
       "      <td>692</td>\n",
       "      <td>[ , when, i, woke, up, this, morning, you, wer...</td>\n",
       "      <td>[ , when, i, wake, up, this, morning, -PRON-, ...</td>\n",
       "      <td>[SPACE, ADV, PRON, VERB, ADP, DET, NOUN, PRON,...</td>\n",
       "    </tr>\n",
       "    <tr>\n",
       "      <th>4</th>\n",
       "      <td>5</td>\n",
       "      <td>youve lost that lovin feelin</td>\n",
       "      <td>the righteous brothers</td>\n",
       "      <td>1965</td>\n",
       "      <td>you never close your eyes anymore when i kiss...</td>\n",
       "      <td>1173</td>\n",
       "      <td>[ , you, never, close, your, eyes, anymore, wh...</td>\n",
       "      <td>[ , -PRON-, never, close, -PRON-, eye, anymore...</td>\n",
       "      <td>[SPACE, PRON, ADV, VERB, PRON, NOUN, ADV, ADV,...</td>\n",
       "    </tr>\n",
       "    <tr>\n",
       "      <th>5</th>\n",
       "      <td>6</td>\n",
       "      <td>downtown</td>\n",
       "      <td>petula clark</td>\n",
       "      <td>1965</td>\n",
       "      <td>when youre alone and life is making you lonel...</td>\n",
       "      <td>1333</td>\n",
       "      <td>[ , when, you, re, alone, and, life, is, makin...</td>\n",
       "      <td>[ , when, -PRON-, be, alone, and, life, be, ma...</td>\n",
       "      <td>[SPACE, ADV, PRON, VERB, ADJ, CCONJ, NOUN, AUX...</td>\n",
       "    </tr>\n",
       "    <tr>\n",
       "      <th>6</th>\n",
       "      <td>7</td>\n",
       "      <td>help</td>\n",
       "      <td>the beatles</td>\n",
       "      <td>1965</td>\n",
       "      <td>help i need somebody help not just anybody hel...</td>\n",
       "      <td>1089</td>\n",
       "      <td>[help, i, need, somebody, help, not, just, any...</td>\n",
       "      <td>[help, i, need, somebody, help, not, just, any...</td>\n",
       "      <td>[NOUN, PRON, VERB, PRON, VERB, PART, ADV, PRON...</td>\n",
       "    </tr>\n",
       "    <tr>\n",
       "      <th>7</th>\n",
       "      <td>8</td>\n",
       "      <td>cant you hear my heart beat</td>\n",
       "      <td>hermans hermits</td>\n",
       "      <td>1965</td>\n",
       "      <td>carterlewis every time i see you lookin my way...</td>\n",
       "      <td>1052</td>\n",
       "      <td>[carterlewis, every, time, i, see, you, lookin...</td>\n",
       "      <td>[carterlewis, every, time, i, see, -PRON-, loo...</td>\n",
       "      <td>[PROPN, DET, NOUN, PRON, VERB, PRON, VERB, PRO...</td>\n",
       "    </tr>\n",
       "    <tr>\n",
       "      <th>8</th>\n",
       "      <td>9</td>\n",
       "      <td>crying in the chapel</td>\n",
       "      <td>elvis presley</td>\n",
       "      <td>1965</td>\n",
       "      <td>you saw me crying in the chapel the tears i s...</td>\n",
       "      <td>738</td>\n",
       "      <td>[ , you, saw, me, crying, in, the, chapel, the...</td>\n",
       "      <td>[ , -PRON-, see, -PRON-, cry, in, the, chapel,...</td>\n",
       "      <td>[SPACE, PRON, VERB, PRON, VERB, ADP, DET, NOUN...</td>\n",
       "    </tr>\n",
       "    <tr>\n",
       "      <th>9</th>\n",
       "      <td>10</td>\n",
       "      <td>my girl</td>\n",
       "      <td>the temptations</td>\n",
       "      <td>1965</td>\n",
       "      <td>ive got sunshine on a cloudy day when its cold...</td>\n",
       "      <td>680</td>\n",
       "      <td>[i, ve, got, sunshine, on, a, cloudy, day, whe...</td>\n",
       "      <td>[-PRON-, have, get, sunshine, on, a, cloudy, d...</td>\n",
       "      <td>[PRON, VERB, VERB, NOUN, ADP, DET, ADJ, NOUN, ...</td>\n",
       "    </tr>\n",
       "  </tbody>\n",
       "</table>\n",
       "</div>"
      ],
      "text/plain": [
       "   Rank                                      Song  \\\n",
       "0     1                               wooly bully   \n",
       "1     2  i cant help myself sugar pie honey bunch   \n",
       "2     3                i cant get no satisfaction   \n",
       "3     4                       you were on my mind   \n",
       "4     5              youve lost that lovin feelin   \n",
       "5     6                                  downtown   \n",
       "6     7                                      help   \n",
       "7     8               cant you hear my heart beat   \n",
       "8     9                      crying in the chapel   \n",
       "9    10                                   my girl   \n",
       "\n",
       "                          Artist  Year  \\\n",
       "0  sam the sham and the pharaohs  1965   \n",
       "1                      four tops  1965   \n",
       "2             the rolling stones  1965   \n",
       "3                        we five  1965   \n",
       "4         the righteous brothers  1965   \n",
       "5                   petula clark  1965   \n",
       "6                    the beatles  1965   \n",
       "7                hermans hermits  1965   \n",
       "8                  elvis presley  1965   \n",
       "9                the temptations  1965   \n",
       "\n",
       "                                              Lyrics  Length  \\\n",
       "0  sam the sham miscellaneous wooly bully wooly b...     662   \n",
       "1   sugar pie honey bunch you know that i love yo...     995   \n",
       "2                                                          2   \n",
       "3   when i woke up this morning you were on my mi...     692   \n",
       "4   you never close your eyes anymore when i kiss...    1173   \n",
       "5   when youre alone and life is making you lonel...    1333   \n",
       "6  help i need somebody help not just anybody hel...    1089   \n",
       "7  carterlewis every time i see you lookin my way...    1052   \n",
       "8   you saw me crying in the chapel the tears i s...     738   \n",
       "9  ive got sunshine on a cloudy day when its cold...     680   \n",
       "\n",
       "                                       lyrics_tokens  \\\n",
       "0  [sam, the, sham, miscellaneous, wooly, bully, ...   \n",
       "1  [ , sugar, pie, honey, bunch, you, know, that,...   \n",
       "2                                               [  ]   \n",
       "3  [ , when, i, woke, up, this, morning, you, wer...   \n",
       "4  [ , you, never, close, your, eyes, anymore, wh...   \n",
       "5  [ , when, you, re, alone, and, life, is, makin...   \n",
       "6  [help, i, need, somebody, help, not, just, any...   \n",
       "7  [carterlewis, every, time, i, see, you, lookin...   \n",
       "8  [ , you, saw, me, crying, in, the, chapel, the...   \n",
       "9  [i, ve, got, sunshine, on, a, cloudy, day, whe...   \n",
       "\n",
       "                                        lyrics_lemma  \\\n",
       "0  [sam, the, sham, miscellaneous, wooly, bully, ...   \n",
       "1  [ , sugar, pie, honey, bunch, -PRON-, know, th...   \n",
       "2                                               [  ]   \n",
       "3  [ , when, i, wake, up, this, morning, -PRON-, ...   \n",
       "4  [ , -PRON-, never, close, -PRON-, eye, anymore...   \n",
       "5  [ , when, -PRON-, be, alone, and, life, be, ma...   \n",
       "6  [help, i, need, somebody, help, not, just, any...   \n",
       "7  [carterlewis, every, time, i, see, -PRON-, loo...   \n",
       "8  [ , -PRON-, see, -PRON-, cry, in, the, chapel,...   \n",
       "9  [-PRON-, have, get, sunshine, on, a, cloudy, d...   \n",
       "\n",
       "                                          lyrics_pos  \n",
       "0  [PROPN, DET, ADJ, ADJ, PROPN, PROPN, PROPN, PR...  \n",
       "1  [SPACE, PROPN, PROPN, PROPN, NOUN, PRON, VERB,...  \n",
       "2                                            [SPACE]  \n",
       "3  [SPACE, ADV, PRON, VERB, ADP, DET, NOUN, PRON,...  \n",
       "4  [SPACE, PRON, ADV, VERB, PRON, NOUN, ADV, ADV,...  \n",
       "5  [SPACE, ADV, PRON, VERB, ADJ, CCONJ, NOUN, AUX...  \n",
       "6  [NOUN, PRON, VERB, PRON, VERB, PART, ADV, PRON...  \n",
       "7  [PROPN, DET, NOUN, PRON, VERB, PRON, VERB, PRO...  \n",
       "8  [SPACE, PRON, VERB, PRON, VERB, ADP, DET, NOUN...  \n",
       "9  [PRON, VERB, VERB, NOUN, ADP, DET, ADJ, NOUN, ...  "
      ]
     },
     "execution_count": 25,
     "metadata": {},
     "output_type": "execute_result"
    }
   ],
   "source": [
    "lyrics_db.head(10)"
   ]
  },
  {
   "cell_type": "code",
   "execution_count": null,
   "metadata": {},
   "outputs": [],
   "source": []
  },
  {
   "cell_type": "code",
   "execution_count": 26,
   "metadata": {},
   "outputs": [],
   "source": [
    "lyrics_db.to_csv('proc_lyrics.csv')"
   ]
  },
  {
   "cell_type": "code",
   "execution_count": 27,
   "metadata": {},
   "outputs": [],
   "source": [
    "from sklearn.feature_extraction.text import TfidfVectorizer"
   ]
  },
  {
   "cell_type": "code",
   "execution_count": 28,
   "metadata": {},
   "outputs": [],
   "source": [
    "from sklearn.feature_extraction.text import CountVectorizer"
   ]
  },
  {
   "cell_type": "code",
   "execution_count": 29,
   "metadata": {},
   "outputs": [],
   "source": [
    "lyrics_db['lyrics_lemma'] = [\" \".join(lyric) for lyric in lyrics_db['lyrics_lemma'].values]"
   ]
  },
  {
   "cell_type": "code",
   "execution_count": null,
   "metadata": {},
   "outputs": [],
   "source": []
  },
  {
   "cell_type": "code",
   "execution_count": 30,
   "metadata": {},
   "outputs": [],
   "source": [
    "bow_transformer = CountVectorizer().fit(lyrics_db['lyrics_lemma'])"
   ]
  },
  {
   "cell_type": "code",
   "execution_count": 31,
   "metadata": {},
   "outputs": [
    {
     "name": "stdout",
     "output_type": "stream",
     "text": [
      "37916\n"
     ]
    }
   ],
   "source": [
    "print(len(bow_transformer.vocabulary_))"
   ]
  },
  {
   "cell_type": "code",
   "execution_count": 32,
   "metadata": {
    "scrolled": true
   },
   "outputs": [],
   "source": [
    "song222 = (lyrics_db['lyrics_lemma'][221])"
   ]
  },
  {
   "cell_type": "code",
   "execution_count": 33,
   "metadata": {},
   "outputs": [
    {
     "data": {
      "text/plain": [
       "'-PRON- sit on the dock a fishin in the water uh huh i do not know -PRON- name -PRON- s the fishermans daughter uh huh come on down to -PRON- boat baby come on down where -PRON- can play come on down to -PRON- boat baby come on down well sail away -PRON- smile so nice like -PRON- want to come with -PRON- uh huh but -PRON- s tie to the dock and -PRON- can not get free come on down to -PRON- boat baby fish all day sleep all night father never let -PRON- out of -PRON- sight soon -PRON- be go to have to get -PRON- knife and cut that rope cut that rope then -PRON- can go fishin in -PRON- little red boat make -PRON- happy in -PRON- little red boat so come on down to -PRON- boat baby'"
      ]
     },
     "execution_count": 33,
     "metadata": {},
     "output_type": "execute_result"
    }
   ],
   "source": [
    "song222"
   ]
  },
  {
   "cell_type": "code",
   "execution_count": 34,
   "metadata": {},
   "outputs": [],
   "source": [
    "bow222 = bow_transformer.transform([song222])"
   ]
  },
  {
   "cell_type": "code",
   "execution_count": 35,
   "metadata": {},
   "outputs": [
    {
     "name": "stdout",
     "output_type": "stream",
     "text": [
      "  (0, 1121)\t2\n",
      "  (0, 1494)\t2\n",
      "  (0, 2319)\t1\n",
      "  (0, 2585)\t4\n",
      "  (0, 3258)\t1\n",
      "  (0, 4317)\t6\n",
      "  (0, 5216)\t1\n",
      "  (0, 5469)\t3\n",
      "  (0, 6811)\t7\n",
      "  (0, 7794)\t2\n",
      "  (0, 8139)\t1\n",
      "  (0, 8163)\t1\n",
      "  (0, 9144)\t1\n",
      "  (0, 9167)\t2\n",
      "  (0, 9542)\t6\n",
      "  (0, 11396)\t1\n",
      "  (0, 11845)\t1\n",
      "  (0, 11850)\t1\n",
      "  (0, 11851)\t2\n",
      "  (0, 12489)\t1\n",
      "  (0, 13049)\t2\n",
      "  (0, 13411)\t2\n",
      "  (0, 14542)\t1\n",
      "  (0, 14672)\t1\n",
      "  (0, 15951)\t3\n",
      "  :\t:\n",
      "  (0, 23223)\t1\n",
      "  (0, 23640)\t7\n",
      "  (0, 24207)\t1\n",
      "  (0, 25317)\t1\n",
      "  (0, 25940)\t21\n",
      "  (0, 26617)\t2\n",
      "  (0, 27546)\t2\n",
      "  (0, 27878)\t1\n",
      "  (0, 29313)\t1\n",
      "  (0, 29484)\t1\n",
      "  (0, 29671)\t1\n",
      "  (0, 29821)\t1\n",
      "  (0, 29944)\t2\n",
      "  (0, 30208)\t1\n",
      "  (0, 32248)\t2\n",
      "  (0, 32328)\t4\n",
      "  (0, 32356)\t1\n",
      "  (0, 32833)\t1\n",
      "  (0, 33090)\t8\n",
      "  (0, 34240)\t3\n",
      "  (0, 35400)\t1\n",
      "  (0, 35527)\t1\n",
      "  (0, 35770)\t1\n",
      "  (0, 35920)\t1\n",
      "  (0, 36379)\t1\n"
     ]
    }
   ],
   "source": [
    "print(bow222)"
   ]
  },
  {
   "cell_type": "code",
   "execution_count": 36,
   "metadata": {},
   "outputs": [
    {
     "data": {
      "text/plain": [
       "'down'"
      ]
     },
     "execution_count": 36,
     "metadata": {},
     "output_type": "execute_result"
    }
   ],
   "source": [
    "bow_transformer.get_feature_names()[9542]"
   ]
  },
  {
   "cell_type": "code",
   "execution_count": 37,
   "metadata": {},
   "outputs": [],
   "source": [
    "lyrics_bow = bow_transformer.transform(lyrics_db['lyrics_lemma'])"
   ]
  },
  {
   "cell_type": "code",
   "execution_count": 38,
   "metadata": {},
   "outputs": [
    {
     "data": {
      "text/plain": [
       "(4912, 37916)"
      ]
     },
     "execution_count": 38,
     "metadata": {},
     "output_type": "execute_result"
    }
   ],
   "source": [
    "lyrics_bow.shape"
   ]
  },
  {
   "cell_type": "code",
   "execution_count": 39,
   "metadata": {},
   "outputs": [],
   "source": [
    "import numpy as np"
   ]
  },
  {
   "cell_type": "code",
   "execution_count": 40,
   "metadata": {},
   "outputs": [
    {
     "data": {
      "text/plain": [
       "474593"
      ]
     },
     "execution_count": 40,
     "metadata": {},
     "output_type": "execute_result"
    }
   ],
   "source": [
    "lyrics_bow.nnz"
   ]
  },
  {
   "cell_type": "code",
   "execution_count": 41,
   "metadata": {},
   "outputs": [
    {
     "data": {
      "text/plain": [
       "0.0025482407450998315"
      ]
     },
     "execution_count": 41,
     "metadata": {},
     "output_type": "execute_result"
    }
   ],
   "source": [
    "(lyrics_bow.nnz)/(4912 * 37916)"
   ]
  },
  {
   "cell_type": "code",
   "execution_count": 42,
   "metadata": {},
   "outputs": [],
   "source": [
    "from sklearn.feature_extraction.text import TfidfTransformer"
   ]
  },
  {
   "cell_type": "code",
   "execution_count": 43,
   "metadata": {},
   "outputs": [],
   "source": [
    "tfidf_transformer = TfidfTransformer().fit(lyrics_bow)"
   ]
  },
  {
   "cell_type": "code",
   "execution_count": 44,
   "metadata": {},
   "outputs": [],
   "source": [
    "tfidf_lyrics = tfidf_transformer.transform(lyrics_bow)"
   ]
  },
  {
   "cell_type": "code",
   "execution_count": 45,
   "metadata": {},
   "outputs": [
    {
     "data": {
      "text/plain": [
       "<4912x37916 sparse matrix of type '<class 'numpy.float64'>'\n",
       "\twith 474593 stored elements in Compressed Sparse Row format>"
      ]
     },
     "execution_count": 45,
     "metadata": {},
     "output_type": "execute_result"
    }
   ],
   "source": [
    "tfidf_lyrics"
   ]
  },
  {
   "cell_type": "code",
   "execution_count": 46,
   "metadata": {},
   "outputs": [],
   "source": [
    "from sklearn.linear_model import LinearRegression"
   ]
  },
  {
   "cell_type": "code",
   "execution_count": 72,
   "metadata": {},
   "outputs": [],
   "source": [
    "from sklearn.metrics import mean_squared_error, r2_score"
   ]
  },
  {
   "cell_type": "code",
   "execution_count": 83,
   "metadata": {},
   "outputs": [],
   "source": [
    "from sklearn import metrics"
   ]
  },
  {
   "cell_type": "code",
   "execution_count": 84,
   "metadata": {},
   "outputs": [],
   "source": [
    "model = LinearRegression()"
   ]
  },
  {
   "cell_type": "code",
   "execution_count": 85,
   "metadata": {},
   "outputs": [],
   "source": [
    "from sklearn.model_selection import train_test_split\n",
    "x_train,x_test,y_train,y_test = train_test_split(X,y,test_size=.2,random_state=4)"
   ]
  },
  {
   "cell_type": "code",
   "execution_count": 86,
   "metadata": {},
   "outputs": [],
   "source": [
    "X = tfidf_lyrics\n",
    "y = lyrics_db['Rank']"
   ]
  },
  {
   "cell_type": "code",
   "execution_count": 87,
   "metadata": {},
   "outputs": [
    {
     "data": {
      "text/plain": [
       "LinearRegression(copy_X=True, fit_intercept=True, n_jobs=None, normalize=False)"
      ]
     },
     "execution_count": 87,
     "metadata": {},
     "output_type": "execute_result"
    }
   ],
   "source": [
    "model.fit(x_test,y_test)"
   ]
  },
  {
   "cell_type": "code",
   "execution_count": 88,
   "metadata": {},
   "outputs": [
    {
     "data": {
      "text/plain": [
       "LinearRegression(copy_X=True, fit_intercept=True, n_jobs=None, normalize=False)"
      ]
     },
     "execution_count": 88,
     "metadata": {},
     "output_type": "execute_result"
    }
   ],
   "source": [
    "model.fit(x_train,y_train)"
   ]
  },
  {
   "cell_type": "code",
   "execution_count": 89,
   "metadata": {},
   "outputs": [],
   "source": [
    "y_pred = model.predict(x_test)"
   ]
  },
  {
   "cell_type": "code",
   "execution_count": 90,
   "metadata": {},
   "outputs": [],
   "source": [
    "y_predict = model.predict(x_train)"
   ]
  },
  {
   "cell_type": "code",
   "execution_count": 91,
   "metadata": {},
   "outputs": [
    {
     "data": {
      "text/plain": [
       "122.36264786354361"
      ]
     },
     "execution_count": 91,
     "metadata": {},
     "output_type": "execute_result"
    }
   ],
   "source": [
    "np.sqrt(metrics.mean_squared_error(y_test,y_pred))"
   ]
  },
  {
   "cell_type": "code",
   "execution_count": 92,
   "metadata": {},
   "outputs": [
    {
     "data": {
      "text/plain": [
       "6.219292113579896"
      ]
     },
     "execution_count": 92,
     "metadata": {},
     "output_type": "execute_result"
    }
   ],
   "source": [
    "np.sqrt(metrics.mean_squared_error(y_train,y_predict))"
   ]
  },
  {
   "cell_type": "code",
   "execution_count": 93,
   "metadata": {},
   "outputs": [],
   "source": [
    "from sklearn.metrics import mean_squared_error, r2_score"
   ]
  },
  {
   "cell_type": "code",
   "execution_count": 94,
   "metadata": {},
   "outputs": [
    {
     "data": {
      "text/plain": [
       "53.076927034788625"
      ]
     },
     "execution_count": 94,
     "metadata": {},
     "output_type": "execute_result"
    }
   ],
   "source": [
    "model.intercept_"
   ]
  },
  {
   "cell_type": "code",
   "execution_count": 95,
   "metadata": {},
   "outputs": [
    {
     "data": {
      "text/plain": [
       "-2.6454196861755284"
      ]
     },
     "execution_count": 95,
     "metadata": {},
     "output_type": "execute_result"
    }
   ],
   "source": [
    "model.score(X,y)"
   ]
  },
  {
   "cell_type": "code",
   "execution_count": 96,
   "metadata": {},
   "outputs": [],
   "source": [
    "df = pd.DataFrame({'Actual': y_test, 'Predicted': y_pred})\n",
    "df1 = df.head(25)\n",
    " "
   ]
  },
  {
   "cell_type": "code",
   "execution_count": 97,
   "metadata": {},
   "outputs": [
    {
     "data": {
      "text/html": [
       "<div>\n",
       "<style scoped>\n",
       "    .dataframe tbody tr th:only-of-type {\n",
       "        vertical-align: middle;\n",
       "    }\n",
       "\n",
       "    .dataframe tbody tr th {\n",
       "        vertical-align: top;\n",
       "    }\n",
       "\n",
       "    .dataframe thead th {\n",
       "        text-align: right;\n",
       "    }\n",
       "</style>\n",
       "<table border=\"1\" class=\"dataframe\">\n",
       "  <thead>\n",
       "    <tr style=\"text-align: right;\">\n",
       "      <th></th>\n",
       "      <th>Actual</th>\n",
       "      <th>Predicted</th>\n",
       "    </tr>\n",
       "  </thead>\n",
       "  <tbody>\n",
       "    <tr>\n",
       "      <th>486</th>\n",
       "      <td>88</td>\n",
       "      <td>22.613573</td>\n",
       "    </tr>\n",
       "    <tr>\n",
       "      <th>2873</th>\n",
       "      <td>75</td>\n",
       "      <td>0.738765</td>\n",
       "    </tr>\n",
       "    <tr>\n",
       "      <th>2381</th>\n",
       "      <td>83</td>\n",
       "      <td>50.377555</td>\n",
       "    </tr>\n",
       "    <tr>\n",
       "      <th>4402</th>\n",
       "      <td>4</td>\n",
       "      <td>28.999999</td>\n",
       "    </tr>\n",
       "    <tr>\n",
       "      <th>231</th>\n",
       "      <td>32</td>\n",
       "      <td>3.309437</td>\n",
       "    </tr>\n",
       "    <tr>\n",
       "      <th>3625</th>\n",
       "      <td>27</td>\n",
       "      <td>41.000014</td>\n",
       "    </tr>\n",
       "    <tr>\n",
       "      <th>234</th>\n",
       "      <td>35</td>\n",
       "      <td>41.723547</td>\n",
       "    </tr>\n",
       "    <tr>\n",
       "      <th>2474</th>\n",
       "      <td>76</td>\n",
       "      <td>44.150938</td>\n",
       "    </tr>\n",
       "    <tr>\n",
       "      <th>424</th>\n",
       "      <td>26</td>\n",
       "      <td>40.322903</td>\n",
       "    </tr>\n",
       "    <tr>\n",
       "      <th>2798</th>\n",
       "      <td>100</td>\n",
       "      <td>180.402219</td>\n",
       "    </tr>\n",
       "    <tr>\n",
       "      <th>43</th>\n",
       "      <td>44</td>\n",
       "      <td>28.424286</td>\n",
       "    </tr>\n",
       "    <tr>\n",
       "      <th>3984</th>\n",
       "      <td>86</td>\n",
       "      <td>19.642176</td>\n",
       "    </tr>\n",
       "    <tr>\n",
       "      <th>3294</th>\n",
       "      <td>96</td>\n",
       "      <td>1.258034</td>\n",
       "    </tr>\n",
       "    <tr>\n",
       "      <th>3764</th>\n",
       "      <td>66</td>\n",
       "      <td>42.984499</td>\n",
       "    </tr>\n",
       "    <tr>\n",
       "      <th>853</th>\n",
       "      <td>55</td>\n",
       "      <td>55.500304</td>\n",
       "    </tr>\n",
       "    <tr>\n",
       "      <th>2781</th>\n",
       "      <td>83</td>\n",
       "      <td>69.965368</td>\n",
       "    </tr>\n",
       "    <tr>\n",
       "      <th>3203</th>\n",
       "      <td>5</td>\n",
       "      <td>141.662906</td>\n",
       "    </tr>\n",
       "    <tr>\n",
       "      <th>4779</th>\n",
       "      <td>81</td>\n",
       "      <td>66.814615</td>\n",
       "    </tr>\n",
       "    <tr>\n",
       "      <th>3456</th>\n",
       "      <td>58</td>\n",
       "      <td>172.308948</td>\n",
       "    </tr>\n",
       "    <tr>\n",
       "      <th>2066</th>\n",
       "      <td>68</td>\n",
       "      <td>-11.155551</td>\n",
       "    </tr>\n",
       "    <tr>\n",
       "      <th>4059</th>\n",
       "      <td>61</td>\n",
       "      <td>-18.093718</td>\n",
       "    </tr>\n",
       "    <tr>\n",
       "      <th>4351</th>\n",
       "      <td>53</td>\n",
       "      <td>0.123998</td>\n",
       "    </tr>\n",
       "    <tr>\n",
       "      <th>895</th>\n",
       "      <td>97</td>\n",
       "      <td>-49.142167</td>\n",
       "    </tr>\n",
       "    <tr>\n",
       "      <th>1426</th>\n",
       "      <td>28</td>\n",
       "      <td>-74.638845</td>\n",
       "    </tr>\n",
       "    <tr>\n",
       "      <th>4635</th>\n",
       "      <td>37</td>\n",
       "      <td>127.387245</td>\n",
       "    </tr>\n",
       "  </tbody>\n",
       "</table>\n",
       "</div>"
      ],
      "text/plain": [
       "      Actual   Predicted\n",
       "486       88   22.613573\n",
       "2873      75    0.738765\n",
       "2381      83   50.377555\n",
       "4402       4   28.999999\n",
       "231       32    3.309437\n",
       "3625      27   41.000014\n",
       "234       35   41.723547\n",
       "2474      76   44.150938\n",
       "424       26   40.322903\n",
       "2798     100  180.402219\n",
       "43        44   28.424286\n",
       "3984      86   19.642176\n",
       "3294      96    1.258034\n",
       "3764      66   42.984499\n",
       "853       55   55.500304\n",
       "2781      83   69.965368\n",
       "3203       5  141.662906\n",
       "4779      81   66.814615\n",
       "3456      58  172.308948\n",
       "2066      68  -11.155551\n",
       "4059      61  -18.093718\n",
       "4351      53    0.123998\n",
       "895       97  -49.142167\n",
       "1426      28  -74.638845\n",
       "4635      37  127.387245"
      ]
     },
     "execution_count": 97,
     "metadata": {},
     "output_type": "execute_result"
    }
   ],
   "source": [
    "df1"
   ]
  },
  {
   "cell_type": "code",
   "execution_count": 98,
   "metadata": {},
   "outputs": [],
   "source": [
    "tfidf_lyrics_df = pd.DataFrame(tfidf_lyrics.toarray())"
   ]
  },
  {
   "cell_type": "code",
   "execution_count": 99,
   "metadata": {},
   "outputs": [
    {
     "data": {
      "text/plain": [
       "(4912, 37916)"
      ]
     },
     "execution_count": 99,
     "metadata": {},
     "output_type": "execute_result"
    }
   ],
   "source": [
    "tfidf_lyrics_df.shape"
   ]
  },
  {
   "cell_type": "code",
   "execution_count": 355,
   "metadata": {},
   "outputs": [
    {
     "data": {
      "text/plain": [
       "RangeIndex(start=0, stop=37916, step=1)"
      ]
     },
     "execution_count": 355,
     "metadata": {},
     "output_type": "execute_result"
    }
   ],
   "source": [
    "tfidf_lyrics_df.columns"
   ]
  },
  {
   "cell_type": "code",
   "execution_count": null,
   "metadata": {},
   "outputs": [],
   "source": []
  },
  {
   "cell_type": "code",
   "execution_count": null,
   "metadata": {},
   "outputs": [],
   "source": []
  },
  {
   "cell_type": "code",
   "execution_count": null,
   "metadata": {},
   "outputs": [],
   "source": []
  },
  {
   "cell_type": "code",
   "execution_count": null,
   "metadata": {},
   "outputs": [],
   "source": []
  },
  {
   "cell_type": "code",
   "execution_count": null,
   "metadata": {},
   "outputs": [],
   "source": []
  },
  {
   "cell_type": "code",
   "execution_count": null,
   "metadata": {},
   "outputs": [],
   "source": []
  },
  {
   "cell_type": "code",
   "execution_count": null,
   "metadata": {},
   "outputs": [],
   "source": []
  },
  {
   "cell_type": "code",
   "execution_count": null,
   "metadata": {},
   "outputs": [],
   "source": []
  },
  {
   "cell_type": "code",
   "execution_count": null,
   "metadata": {},
   "outputs": [],
   "source": []
  },
  {
   "cell_type": "code",
   "execution_count": 151,
   "metadata": {},
   "outputs": [],
   "source": [
    "from nltk.collocations import *"
   ]
  },
  {
   "cell_type": "code",
   "execution_count": 152,
   "metadata": {},
   "outputs": [],
   "source": [
    "bigram_measures = nltk.collocations.BigramAssocMeasures()"
   ]
  },
  {
   "cell_type": "code",
   "execution_count": 153,
   "metadata": {},
   "outputs": [],
   "source": [
    "lyrics_finder = BigramCollocationFinder.from_words(all_words_stopped)"
   ]
  },
  {
   "cell_type": "code",
   "execution_count": 154,
   "metadata": {},
   "outputs": [],
   "source": [
    "lyrics_scored = lyrics_finder.score_ngrams(bigram_measures.raw_freq)"
   ]
  },
  {
   "cell_type": "code",
   "execution_count": 155,
   "metadata": {},
   "outputs": [
    {
     "data": {
      "text/plain": [
       "[(('wan', 'na'), 0.005469835583649931),\n",
       " (('gon', 'na'), 0.005220841599665866),\n",
       " (('oh', 'oh'), 0.003500832466061661),\n",
       " (('got', 'ta'), 0.0022157022261439095),\n",
       " (('yeah', 'yeah'), 0.0019724454307309064),\n",
       " (('dont', 'know'), 0.0018875350398791977),\n",
       " (('la', 'la'), 0.0017877079587427294),\n",
       " (('na', 'na'), 0.0015673999176139721),\n",
       " (('im', 'gon'), 0.0013711880684836725),\n",
       " (('love', 'love'), 0.0011692390307823115),\n",
       " (('dont', 'want'), 0.0009386040502256436),\n",
       " (('let', 'go'), 0.0009225399222266718),\n",
       " (('baby', 'baby'), 0.0009087706696561244),\n",
       " (('dont', 'wan'), 0.0008846744776576666),\n",
       " (('ive', 'got'), 0.0007148536959542494),\n",
       " (('hey', 'hey'), 0.0006976421302410652),\n",
       " (('know', 'im'), 0.0006941998170984284),\n",
       " (('get', 'get'), 0.0006437125576730881),\n",
       " (('da', 'da'), 0.000631090742816753),\n",
       " (('oh', 'yeah'), 0.0006219112411030548),\n",
       " (('feel', 'like'), 0.0005828983588198373),\n",
       " (('cause', 'im'), 0.0005519175405361059),\n",
       " (('na', 'get'), 0.0005392957256797708),\n",
       " (('know', 'youre'), 0.0005255264731092235),\n",
       " (('youve', 'got'), 0.0005025777188249779),\n",
       " (('na', 'make'), 0.0004956930925397043),\n",
       " (('ooh', 'ooh'), 0.0004888084662544305),\n",
       " (('know', 'know'), 0.0004853661531117937),\n",
       " (('love', 'baby'), 0.0004853661531117937),\n",
       " (('youre', 'gon'), 0.00048307127768336915),\n",
       " (('little', 'bit'), 0.0004807764022549446),\n",
       " (('make', 'feel'), 0.0004635648365417604),\n",
       " (('shake', 'shake'), 0.0004612699611133359),\n",
       " (('dont', 'need'), 0.0004532378971138499),\n",
       " (('oh', 'baby'), 0.00044750070854278855),\n",
       " (('come', 'come'), 0.0004383212068290903),\n",
       " (('baby', 'dont'), 0.0004279942674011798),\n",
       " (('every', 'time'), 0.00040848782625957104),\n",
       " (('dont', 'care'), 0.00040734038854535877),\n",
       " (('baby', 'im'), 0.00039816088683166057),\n",
       " (('like', 'like'), 0.0003912762605463869),\n",
       " (('aint', 'got'), 0.0003855390719753255),\n",
       " (('dont', 'let'), 0.0003809493211184764),\n",
       " (('cant', 'get'), 0.0003763595702616273),\n",
       " (('na', 'see'), 0.00036718006854792904),\n",
       " (('know', 'love'), 0.00036373775540529224),\n",
       " (('dont', 'stop'), 0.00036144287997686765),\n",
       " (('cant', 'see'), 0.00035226337826316944),\n",
       " (('want', 'know'), 0.0003511159405489572),\n",
       " (('love', 'like'), 0.00034996850283474485)]"
      ]
     },
     "execution_count": 155,
     "metadata": {},
     "output_type": "execute_result"
    }
   ],
   "source": [
    "lyrics_scored[:50\n",
    "            ]"
   ]
  },
  {
   "cell_type": "code",
   "execution_count": 156,
   "metadata": {},
   "outputs": [],
   "source": [
    "trigram_measures = nltk.collocations.TrigramAssocMeasures()"
   ]
  },
  {
   "cell_type": "code",
   "execution_count": 157,
   "metadata": {},
   "outputs": [],
   "source": [
    "tri_finder = TrigramCollocationFinder.from_words(all_words_stopped)"
   ]
  },
  {
   "cell_type": "code",
   "execution_count": 158,
   "metadata": {},
   "outputs": [],
   "source": [
    "tri_lyrics_scored = tri_finder.score_ngrams(trigram_measures.raw_freq)"
   ]
  },
  {
   "cell_type": "code",
   "execution_count": 159,
   "metadata": {},
   "outputs": [
    {
     "data": {
      "text/plain": [
       "[(('oh', 'oh', 'oh'), 0.0021422662124343235),\n",
       " (('la', 'la', 'la'), 0.0014285599541942866),\n",
       " (('im', 'gon', 'na'), 0.0012139891016365904),\n",
       " (('na', 'na', 'na'), 0.00120366216220868),\n",
       " (('yeah', 'yeah', 'yeah'), 0.0010464631953615979),\n",
       " (('dont', 'wan', 'na'), 0.0008846744776576666),\n",
       " (('youre', 'gon', 'na'), 0.00048307127768336915),\n",
       " (('love', 'love', 'love'), 0.00043946864454330256),\n",
       " (('da', 'da', 'da'), 0.0003476736274063203),\n",
       " (('hey', 'hey', 'hey'), 0.0003476736274063203),\n",
       " (('get', 'get', 'get'), 0.0003155453714083765),\n",
       " (('gon', 'na', 'get'), 0.000313250495979952),\n",
       " (('shake', 'shake', 'shake'), 0.0003121030582657397),\n",
       " (('baby', 'baby', 'baby'), 0.00030866074512310286),\n",
       " (('gon', 'na', 'make'), 0.000305218431980466),\n",
       " (('wan', 'na', 'see'), 0.0003006286811236169),\n",
       " (('never', 'gon', 'na'), 0.00027423761369673453),\n",
       " (('got', 'ta', 'get'), 0.00026505811198303627),\n",
       " (('ooh', 'ooh', 'ooh'), 0.00026046836112618714),\n",
       " (('wan', 'na', 'know'), 0.000243256795413003),\n",
       " (('wan', 'na', 'get'), 0.0002260452296998188),\n",
       " (('really', 'wan', 'na'), 0.0002157182902719083),\n",
       " (('wan', 'na', 'go'), 0.0002111285394150592),\n",
       " (('gon', 'na', 'take'), 0.00019506441141608732),\n",
       " (('wan', 'na', 'make'), 0.00018932722284502592)]"
      ]
     },
     "execution_count": 159,
     "metadata": {},
     "output_type": "execute_result"
    }
   ],
   "source": [
    "tri_lyrics_scored[:25]"
   ]
  },
  {
   "cell_type": "code",
   "execution_count": null,
   "metadata": {},
   "outputs": [],
   "source": []
  },
  {
   "cell_type": "code",
   "execution_count": null,
   "metadata": {},
   "outputs": [],
   "source": []
  }
 ],
 "metadata": {
  "kernelspec": {
   "display_name": "Python 3",
   "language": "python",
   "name": "python3"
  },
  "language_info": {
   "codemirror_mode": {
    "name": "ipython",
    "version": 3
   },
   "file_extension": ".py",
   "mimetype": "text/x-python",
   "name": "python",
   "nbconvert_exporter": "python",
   "pygments_lexer": "ipython3",
   "version": "3.7.3"
  }
 },
 "nbformat": 4,
 "nbformat_minor": 2
}
